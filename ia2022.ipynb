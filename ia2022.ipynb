{
  "nbformat": 4,
  "nbformat_minor": 0,
  "metadata": {
    "colab": {
      "provenance": [],
      "authorship_tag": "ABX9TyOBIe6nnW5SWCMlSHQ5GGOl",
      "include_colab_link": true
    },
    "kernelspec": {
      "name": "python3",
      "display_name": "Python 3"
    },
    "language_info": {
      "name": "python"
    },
    "gpuClass": "standard",
    "accelerator": "GPU"
  },
  "cells": [
    {
      "cell_type": "markdown",
      "metadata": {
        "id": "view-in-github",
        "colab_type": "text"
      },
      "source": [
        "<a href=\"https://colab.research.google.com/github/matiangelico/IA/blob/main/Untitled1.ipynb\" target=\"_parent\"><img src=\"https://colab.research.google.com/assets/colab-badge.svg\" alt=\"Open In Colab\"/></a>"
      ]
    },
    {
      "cell_type": "markdown",
      "source": [
        "***MONTAMOS DRIVE***"
      ],
      "metadata": {
        "id": "s9rB8TSepHdc"
      }
    },
    {
      "cell_type": "code",
      "source": [
        "from google.colab import drive\n",
        "drive.mount('/content/drive')"
      ],
      "metadata": {
        "colab": {
          "base_uri": "https://localhost:8080/"
        },
        "id": "NJTWOQCiuP-m",
        "outputId": "46144f19-77ad-42bf-d2be-f92d4cca33e4"
      },
      "execution_count": 36,
      "outputs": [
        {
          "output_type": "stream",
          "name": "stdout",
          "text": [
            "Drive already mounted at /content/drive; to attempt to forcibly remount, call drive.mount(\"/content/drive\", force_remount=True).\n"
          ]
        }
      ]
    },
    {
      "cell_type": "code",
      "source": [
        "from tensorflow.keras.preprocessing import  image_dataset_from_directory\n",
        "from tensorflow.keras.preprocessing.image import ImageDataGenerator\n",
        "from tensorflow.keras.utils import load_img\n",
        "from tensorflow.keras.utils import img_to_array\n",
        "from keras.applications.vgg16 import preprocess_input\n",
        "from keras.applications.vgg16 import decode_predictions\n",
        "from keras.applications.vgg16 import VGG16\n",
        "import matplotlib.pyplot as plt\n",
        "import numpy as np\n",
        "import tensorflow as tf\n",
        "\n",
        "train_datagen = ImageDataGenerator(preprocessing_function=preprocess_input)\n",
        "\n",
        "train_generator = train_datagen.flow_from_directory(directory =\"/content/drive/My Drive/DatosColab/flowers50/\",\n",
        "                                                 target_size=(224,224),\n",
        "                                                 #batch_size=2048,\n",
        "                                                 class_mode='categorical',                                                 \n",
        "                                                 shuffle=False,\n",
        "                                                 seed=15\n",
        "                                                 )\n",
        "\n",
        "print(train_generator.__len__())\n",
        "x1=np.concatenate([train_generator.next()[0] for i in range(train_generator.__len__())])\n",
        "y1=np.concatenate([train_generator.next()[1] for i in range(train_generator.__len__())])\n",
        "labels = list(train_generator.class_indices.keys())  \n",
        "print(x1.shape)\n",
        "print(y1.shape)\n",
        "print(labels)\n",
        "\n",
        "shuffler = np. random. permutation(len(y1))\n",
        "x1 = x1[shuffler]\n",
        "y1 = y1[shuffler]\n",
        "\n",
        "num_class = y1.shape[1]"
      ],
      "metadata": {
        "colab": {
          "base_uri": "https://localhost:8080/"
        },
        "id": "XfGYmZUtYM2n",
        "outputId": "e6f38d06-7867-407e-8ebc-deb0ada5eb9b"
      },
      "execution_count": 37,
      "outputs": [
        {
          "output_type": "stream",
          "name": "stdout",
          "text": [
            "Found 8191 images belonging to 16 classes.\n",
            "256\n",
            "(8191, 224, 224, 3)\n",
            "(8191, 16)\n",
            "['astilbe', 'bellflower', 'black_eyed_susan', 'calendula', 'california_poppy', 'carnation', 'common_daisy', 'coreopsis', 'daffodil', 'dandelion', 'iris', 'magnolia', 'rose', 'sunflower', 'tulip', 'water_lily']\n"
          ]
        }
      ]
    },
    {
      "cell_type": "code",
      "source": [
        "from sklearn.preprocessing import StandardScaler\n",
        "from sklearn.model_selection import train_test_split\n",
        "\n",
        "x_train, x_test, y_train, y_test = train_test_split(x1, y1, random_state=1,test_size=0.1)\n"
      ],
      "metadata": {
        "id": "_qZL1xHXkvUz"
      },
      "execution_count": 38,
      "outputs": []
    },
    {
      "cell_type": "code",
      "source": [
        "lb = [labels[np.argmax(x)] for x in y1[:10]]\n",
        "for lb_enc, lb in zip(y1[:10],lb):\n",
        "    print(lb_enc,\"-->\",lb)"
      ],
      "metadata": {
        "colab": {
          "base_uri": "https://localhost:8080/"
        },
        "id": "KNY0sseUYkey",
        "outputId": "50ea308c-0563-456b-a8ad-d0eb70617bca"
      },
      "execution_count": 43,
      "outputs": [
        {
          "output_type": "stream",
          "name": "stdout",
          "text": [
            "[0. 1. 0. 0. 0. 0. 0. 0. 0. 0. 0. 0. 0. 0. 0. 0.] --> bellflower\n",
            "[0. 0. 0. 0. 0. 1. 0. 0. 0. 0. 0. 0. 0. 0. 0. 0.] --> carnation\n",
            "[0. 1. 0. 0. 0. 0. 0. 0. 0. 0. 0. 0. 0. 0. 0. 0.] --> bellflower\n",
            "[1. 0. 0. 0. 0. 0. 0. 0. 0. 0. 0. 0. 0. 0. 0. 0.] --> astilbe\n",
            "[0. 0. 0. 0. 0. 0. 0. 0. 0. 0. 0. 0. 0. 0. 1. 0.] --> tulip\n",
            "[0. 0. 0. 0. 0. 0. 0. 0. 0. 0. 1. 0. 0. 0. 0. 0.] --> iris\n",
            "[0. 0. 0. 0. 0. 0. 0. 1. 0. 0. 0. 0. 0. 0. 0. 0.] --> coreopsis\n",
            "[0. 1. 0. 0. 0. 0. 0. 0. 0. 0. 0. 0. 0. 0. 0. 0.] --> bellflower\n",
            "[0. 0. 0. 0. 0. 0. 0. 0. 0. 0. 1. 0. 0. 0. 0. 0.] --> iris\n",
            "[0. 0. 0. 0. 0. 0. 0. 0. 0. 0. 0. 0. 0. 1. 0. 0.] --> sunflower\n"
          ]
        }
      ]
    },
    {
      "cell_type": "code",
      "source": [
        "from tensorflow.keras.models import Model\n",
        "from tensorflow.keras.models import  Sequential\n",
        "from tensorflow.keras.layers import Flatten, Dense, Dropout, MaxPooling2D, GlobalAveragePooling2D\n",
        "from tensorflow.keras.optimizers import  RMSprop, Adam, Adamax\n",
        "\n",
        "# MODEL BASE VGG16\n",
        "base_model = VGG16(include_top=False, weights='imagenet', input_shape=(224,224,3))\n",
        "\n",
        "# SUMAMOS CAPAS\n",
        "\n",
        "x = base_model.output\n",
        "\n",
        "x = GlobalAveragePooling2D(name=\"GAP2D\")(x)\n",
        "x = Dense(128,activation='relu', name=\"Dense1\")(x)\n",
        "x = Dropout(0.5, name=\"Drop1\")(x)\n",
        "x = Dense(128,activation='relu', name=\"Dense2\")(x) \n",
        "x = Dropout(0.5, name=\"Drop2\")(x)\n",
        "x = Dense(128,activation='relu', name=\"Dense3\")(x) \n",
        "x = Dropout(0.5, name=\"Drop3\")(x)\n",
        "# CAPA SOFTMAX CON CANTIDAD DE CLASES PARA CLASIFICACION\n",
        "preds = Dense(num_class, activation='softmax', name=\"My_Softmax\")(x) \n",
        "\n",
        "# ARMO EL MODELO COMPLETO\n",
        "model = Model(inputs=base_model.input, outputs=preds)\n",
        "\n",
        "\n",
        "# FREZO TODAS LAS CAPAS DEL MODELO BASE\n",
        "for layer in model.layers[:19]:\n",
        "    layer.trainable = False\n",
        "\n",
        "# VEO EL RESUMEN DE LA RED\n",
        "model.summary()"
      ],
      "metadata": {
        "colab": {
          "base_uri": "https://localhost:8080/"
        },
        "id": "Ic2iNFjMYrQV",
        "outputId": "2b524208-4936-49f2-ab19-0bbb4f52018f"
      },
      "execution_count": 44,
      "outputs": [
        {
          "output_type": "stream",
          "name": "stdout",
          "text": [
            "Model: \"model_3\"\n",
            "_________________________________________________________________\n",
            " Layer (type)                Output Shape              Param #   \n",
            "=================================================================\n",
            " input_4 (InputLayer)        [(None, 224, 224, 3)]     0         \n",
            "                                                                 \n",
            " block1_conv1 (Conv2D)       (None, 224, 224, 64)      1792      \n",
            "                                                                 \n",
            " block1_conv2 (Conv2D)       (None, 224, 224, 64)      36928     \n",
            "                                                                 \n",
            " block1_pool (MaxPooling2D)  (None, 112, 112, 64)      0         \n",
            "                                                                 \n",
            " block2_conv1 (Conv2D)       (None, 112, 112, 128)     73856     \n",
            "                                                                 \n",
            " block2_conv2 (Conv2D)       (None, 112, 112, 128)     147584    \n",
            "                                                                 \n",
            " block2_pool (MaxPooling2D)  (None, 56, 56, 128)       0         \n",
            "                                                                 \n",
            " block3_conv1 (Conv2D)       (None, 56, 56, 256)       295168    \n",
            "                                                                 \n",
            " block3_conv2 (Conv2D)       (None, 56, 56, 256)       590080    \n",
            "                                                                 \n",
            " block3_conv3 (Conv2D)       (None, 56, 56, 256)       590080    \n",
            "                                                                 \n",
            " block3_pool (MaxPooling2D)  (None, 28, 28, 256)       0         \n",
            "                                                                 \n",
            " block4_conv1 (Conv2D)       (None, 28, 28, 512)       1180160   \n",
            "                                                                 \n",
            " block4_conv2 (Conv2D)       (None, 28, 28, 512)       2359808   \n",
            "                                                                 \n",
            " block4_conv3 (Conv2D)       (None, 28, 28, 512)       2359808   \n",
            "                                                                 \n",
            " block4_pool (MaxPooling2D)  (None, 14, 14, 512)       0         \n",
            "                                                                 \n",
            " block5_conv1 (Conv2D)       (None, 14, 14, 512)       2359808   \n",
            "                                                                 \n",
            " block5_conv2 (Conv2D)       (None, 14, 14, 512)       2359808   \n",
            "                                                                 \n",
            " block5_conv3 (Conv2D)       (None, 14, 14, 512)       2359808   \n",
            "                                                                 \n",
            " block5_pool (MaxPooling2D)  (None, 7, 7, 512)         0         \n",
            "                                                                 \n",
            " GAP2D (GlobalAveragePooling  (None, 512)              0         \n",
            " 2D)                                                             \n",
            "                                                                 \n",
            " Dense1 (Dense)              (None, 128)               65664     \n",
            "                                                                 \n",
            " Drop1 (Dropout)             (None, 128)               0         \n",
            "                                                                 \n",
            " Dense2 (Dense)              (None, 128)               16512     \n",
            "                                                                 \n",
            " Drop2 (Dropout)             (None, 128)               0         \n",
            "                                                                 \n",
            " Dense3 (Dense)              (None, 128)               16512     \n",
            "                                                                 \n",
            " Drop3 (Dropout)             (None, 128)               0         \n",
            "                                                                 \n",
            " My_Softmax (Dense)          (None, 16)                2064      \n",
            "                                                                 \n",
            "=================================================================\n",
            "Total params: 14,815,440\n",
            "Trainable params: 100,752\n",
            "Non-trainable params: 14,714,688\n",
            "_________________________________________________________________\n"
          ]
        }
      ]
    },
    {
      "cell_type": "code",
      "source": [
        "\n",
        "# OPTIMIZADOR\n",
        "# opt = Adam(lr=learning_rate, beta_1=0.9, beta_2=0.999, epsilon=0.1, decay=decay_rate, amsgrad=False)\n",
        "opt = Adam(lr=0.001, beta_1=0.9, beta_2=0.999, epsilon=0.1, amsgrad=False)\n",
        "#opt2 = Adamax( learning_rate=0.001, beta_1=0.9, beta_2=0.999, epsilon=0.02)\n",
        "\n",
        "# COMPILO EL MODELO - USO CATEGORICAL CROSSENTROPY COMO LOSS FUNCTION\n",
        "model.compile(optimizer=opt, loss='categorical_crossentropy',metrics=['categorical_accuracy'])\n",
        "\n",
        "history = model.fit(x1, y1, epochs = 40)    \n",
        "\n",
        "#callback = tf.keras.callbacks.EarlyStopping(monitor='loss', patience=5, restore_best_weights=True)\n",
        "#history = model.fit(x_train, y_train, epochs=5, validation_split=0.2,callbacks=[callback], verbose=1)\n"
      ],
      "metadata": {
        "colab": {
          "base_uri": "https://localhost:8080/"
        },
        "id": "vTxZ12t3Y4J2",
        "outputId": "e1196379-31b5-4d2d-ba71-a4df6d2744f4"
      },
      "execution_count": null,
      "outputs": [
        {
          "output_type": "stream",
          "name": "stdout",
          "text": [
            "Epoch 1/40\n",
            "256/256 [==============================] - 4206s 16s/step - loss: 4.1853 - categorical_accuracy: 0.0763\n",
            "Epoch 2/40\n",
            "158/256 [=================>............] - ETA: 26:41 - loss: 2.8368 - categorical_accuracy: 0.0910"
          ]
        }
      ]
    },
    {
      "cell_type": "code",
      "source": [
        "def plotLoss(result, extra_title=\"\"):\n",
        "    loss = result.history['loss']\n",
        "    val_loss = result.history['val_loss']\n",
        "    epochs = range(1, len(loss) + 1)\n",
        "    \n",
        "    plt.figure(figsize=(7,7))\n",
        "    plt.plot(epochs, loss, 'b', label='Training loss')\n",
        "    plt.plot(epochs, val_loss, 'r', label='Validation loss')\n",
        "    plt.title('Training and validation loss '+extra_title)\n",
        "    plt.xlabel('Epochs')\n",
        "    plt.ylabel('Mean Square Error')\n",
        "    plt.legend()\n",
        "    plt.show()\n",
        "\n",
        "def plotAcc(result, extra_title=\"\"):\n",
        "    acc = result.history['categorical_accuracy']\n",
        "    val_acc = result.history['val_categorical_accuracy']\n",
        "    epochs = range(1, len(acc) + 1)\n",
        "\n",
        "    plt.figure(figsize=(7,7))\n",
        "    plt.plot(epochs, acc, 'y', label='Training acc')\n",
        "    plt.plot(epochs, val_acc, 'r', label='Validation acc')\n",
        "    plt.title('Training and validation acc '+extra_title)\n",
        "    plt.xlabel('Epochs')\n",
        "    plt.ylabel('Accuracy')\n",
        "    plt.ylim([0,1])\n",
        "    plt.legend()\n",
        "    plt.show()\n",
        "\n",
        "\n",
        "#acc = history.history['categorical_accuracy']    \n",
        "\n",
        "#loss = history.history['loss']\n",
        "\n",
        "#epoc = range(len(acc))\n",
        "\n",
        "#plt.plot(epoc, acc, 'b', label='Training categorical_accuracy')\n",
        "\n",
        "#plt.title('Training accuracy')\n",
        "#plt.legend()\n",
        "\n",
        "#plt.figure()\n",
        "\n",
        "#plt.plot(epoc, loss, 'b', label='Training loss')\n",
        "\n",
        "#plt.title('Training  loss')\n",
        "#plt.legend()\n",
        "\n",
        "#plt.show()"
      ],
      "metadata": {
        "id": "3tRmkcIPY9Cz"
      },
      "execution_count": null,
      "outputs": []
    },
    {
      "cell_type": "code",
      "source": [
        "plotLoss(history, \"Modelo 1 - Optimizador 1\")"
      ],
      "metadata": {
        "id": "mdihOxFNwCoB"
      },
      "execution_count": null,
      "outputs": []
    },
    {
      "cell_type": "code",
      "source": [
        "plotAcc(history, \"Modelo 1 - Optimizador 1\")\n"
      ],
      "metadata": {
        "id": "qUDYVt_cwKbM"
      },
      "execution_count": null,
      "outputs": []
    },
    {
      "cell_type": "code",
      "source": [
        "# prediction1 = model.predict(x1[0], verbose=1)\n",
        "evaluation1 = model.evaluate(x1, y1)"
      ],
      "metadata": {
        "id": "9_ewgvkFZjym"
      },
      "execution_count": null,
      "outputs": []
    },
    {
      "cell_type": "code",
      "source": [
        "from numpy.ma.core import true_divide\n",
        "from keras.applications.vgg16 import decode_predictions\n",
        "import os\n",
        "\n",
        "def clasifica(lista, path):\n",
        "    file = open(\"/content/drive/My Drive/DatosColab/resultado50-60.txt\",\"w\")\n",
        "    aciertos = 0\n",
        "    fallas = 0\n",
        "    for my_file in lista:\n",
        "        image1 = load_img(path+my_file, target_size=(224, 224))\n",
        "        # convert the image pixels to a numpy array\n",
        "        image = img_to_array(image1)\n",
        "        # reshape data for the model\n",
        "        image = image.reshape((1, image.shape[0], image.shape[1], image.shape[2]))\n",
        "        # prepare the image for the VGG model\n",
        "        image = preprocess_input(image)\n",
        "\n",
        "        # predict the probability across all output classes\n",
        "        yhat = model.predict(image)\n",
        "        pred_label = np.argmax(yhat)\n",
        "        pred_label_cat = labels[pred_label]\n",
        "\n",
        "\n",
        "        print(\"--------------------------------------------------\")\n",
        "        print(\"Archivo --> \",my_file)\n",
        "        print(\"pred_label_cat -->\",pred_label_cat)\n",
        "        print(\"--------------------------------------------------\")\n",
        "        if (my_file[0]==pred_label_cat[0] and my_file[1]== pred_label_cat[1] and my_file[3]== pred_label_cat[3]):\n",
        "            acerto = \"true\"\n",
        "            aciertos +=1 \n",
        "        else:\n",
        "            acerto = \"false\"\n",
        "            fallas +=1\n",
        "        file.write(\"Archivo --> \"+my_file+\"  Prediccion --> \"+pred_label_cat+\" Correcto --> \"+acerto+os.linesep)\n",
        "        # # convert the probabilities to class labels\n",
        "        # #label = decode_predictions(yhat)\n",
        "        # # retrieve the most likely result, e.g. highest probability\n",
        "        # label = label[0][0]\n",
        "        # # print the classification\n",
        "        # print('%s (%.2f%%)' % (label[1], label[2]*100))\n",
        "\n",
        "        # import numpy as np\n",
        "\n",
        "        #image1 = np.array(image1)\n",
        "        #plt.figure()\n",
        "        #plt.imshow(image1)\n",
        "        #plt.title(pred_label_cat)\n",
        "    file.write(\"Total aciertos --> \"+str(aciertos)+\" Total fallas --> \"+str(fallas))\n",
        "    file.close()"
      ],
      "metadata": {
        "id": "vkVnDwTgtYYv"
      },
      "execution_count": null,
      "outputs": []
    },
    {
      "cell_type": "code",
      "source": [
        "import os \n",
        "\n",
        "pathTest = '/content/drive/My Drive/DatosColab/flowersTest/'\n",
        "tests = os.listdir('/content/drive/My Drive/DatosColab/flowersTest/')\n",
        "\n",
        "clasifica(tests, pathTest)"
      ],
      "metadata": {
        "id": "s1_Ql-gB5iZy"
      },
      "execution_count": null,
      "outputs": []
    }
  ]
}
